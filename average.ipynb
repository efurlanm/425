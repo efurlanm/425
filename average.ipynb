{
 "cells": [
  {
   "cell_type": "markdown",
   "id": "d740a27c-48ed-4186-a851-cc340a8af454",
   "metadata": {},
   "source": [
    "# Average\n",
    "\n",
    "*Last updated: 2023-10-06*"
   ]
  },
  {
   "cell_type": "markdown",
   "id": "5c1227d8-d818-4e5a-b6f7-1143c36843f1",
   "metadata": {},
   "source": [
    "- Given M elements, group them into N groups of P<M elements\n",
    "- For each group calculate the average\n",
    "- Present the histogram of these averages\n",
    "- Compare with the average value for the M elements"
   ]
  },
  {
   "cell_type": "code",
   "execution_count": 40,
   "id": "3e54198c-e9d4-4ed6-8c63-23a25e14f099",
   "metadata": {},
   "outputs": [],
   "source": [
    "import matplotlib.pyplot as plt\n",
    "import math as mt\n",
    "import statistics as st\n",
    "import random as rd\n",
    "rd.seed()"
   ]
  },
  {
   "cell_type": "code",
   "execution_count": 49,
   "id": "2c5f5222-bc0b-4db0-9f2f-d26c58576bd9",
   "metadata": {},
   "outputs": [
    {
     "data": {
      "text/plain": [
       "[4, 80, 41, 25, 44, 48, 62, 34, 42, 67, 16, 98, 78, 14, 36, 64, 7, 86, 85, 47]"
      ]
     },
     "execution_count": 49,
     "metadata": {},
     "output_type": "execute_result"
    }
   ],
   "source": [
    "m = 20  # elements\n",
    "p = 5  # elements\n",
    "n = 10  # groups\n",
    "sam = [int(rd.random()*100) for _ in range(m)]\n",
    "sam"
   ]
  },
  {
   "cell_type": "code",
   "execution_count": 50,
   "id": "9bf4174d-f6c4-40c2-a9d3-d90a2934806e",
   "metadata": {},
   "outputs": [
    {
     "data": {
      "text/plain": [
       "48.9"
      ]
     },
     "execution_count": 50,
     "metadata": {},
     "output_type": "execute_result"
    }
   ],
   "source": [
    "u = st.mean(sam)\n",
    "u"
   ]
  },
  {
   "cell_type": "code",
   "execution_count": 51,
   "id": "f7a019af-a0c1-42be-a8bc-439ad2cc8196",
   "metadata": {},
   "outputs": [
    {
     "data": {
      "text/plain": [
       "[[80, 67, 7, 16, 47],\n",
       " [85, 16, 48, 98, 44],\n",
       " [98, 42, 80, 4, 67],\n",
       " [44, 98, 78, 42, 14],\n",
       " [86, 62, 85, 25, 34],\n",
       " [62, 4, 67, 36, 42],\n",
       " [25, 67, 48, 62, 80],\n",
       " [34, 62, 25, 64, 98],\n",
       " [67, 62, 44, 34, 47],\n",
       " [98, 4, 36, 80, 78]]"
      ]
     },
     "execution_count": 51,
     "metadata": {},
     "output_type": "execute_result"
    }
   ],
   "source": [
    "a = []\n",
    "for i in range(n) :\n",
    "    a.append(rd.sample(sam, 5))\n",
    "\n",
    "a"
   ]
  },
  {
   "cell_type": "code",
   "execution_count": 52,
   "id": "22d9c114-8aab-4983-b6e1-7c39e4bdd38d",
   "metadata": {},
   "outputs": [
    {
     "data": {
      "text/plain": [
       "[43.4, 58.2, 58.2, 55.2, 58.4, 42.2, 56.4, 56.6, 50.8, 59.2]"
      ]
     },
     "execution_count": 52,
     "metadata": {},
     "output_type": "execute_result"
    }
   ],
   "source": [
    "b = [st.mean(a[i]) for i in range(n)]\n",
    "b"
   ]
  },
  {
   "cell_type": "code",
   "execution_count": 53,
   "id": "6a1f29a0-2dae-4b86-a5bd-fe3df0cdca84",
   "metadata": {},
   "outputs": [
    {
     "data": {
      "text/plain": [
       "<matplotlib.lines.Line2D at 0x7f8e45c5bb90>"
      ]
     },
     "execution_count": 53,
     "metadata": {},
     "output_type": "execute_result"
    },
    {
     "data": {
      "image/png": "[encoded data removed]",
      "text/plain": [
       "<Figure size 640x480 with 1 Axes>"
      ]
     },
     "metadata": {},
     "output_type": "display_data"
    }
   ],
   "source": [
    "plt.bar(range(n), b)\n",
    "plt.axhline(u, 0)"
   ]
  },
  {
   "cell_type": "code",
   "execution_count": null,
   "id": "ca397d04-6c97-4b03-97bd-3d9c4db84a5d",
   "metadata": {},
   "outputs": [],
   "source": []
  }
 ],
 "metadata": {
  "kernelspec": {
   "display_name": "py311",
   "language": "python",
   "name": "py311"
  },
  "language_info": {
   "codemirror_mode": {
    "name": "ipython",
    "version": 3
   },
   "file_extension": ".py",
   "mimetype": "text/x-python",
   "name": "python",
   "nbconvert_exporter": "python",
   "pygments_lexer": "ipython3",
   "version": "3.11.3"
  }
 },
 "nbformat": 4,
 "nbformat_minor": 5
}
