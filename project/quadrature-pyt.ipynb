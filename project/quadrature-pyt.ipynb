{
 "cells": [
  {
   "cell_type": "markdown",
   "id": "e9f7d7dc-eb9f-404d-8d6b-9e2ddf0fc81d",
   "metadata": {
    "tags": []
   },
   "source": [
    "# Gaussian Quadrature Method (GQM)\n",
    "\n",
    "*Last edited: 2023-12-08*"
   ]
  },
  {
   "cell_type": "markdown",
   "id": "3ed4f106-aef7-4264-915a-86cb6895a8c3",
   "metadata": {
    "tags": []
   },
   "source": [
    "This work is based on:\n",
    "- [Burkardt's Gauss-Hermite Quadrature (GHQ)](https://people.sc.fsu.edu/~jburkardt/py_src/burgers_solution/burgers_solution.py) - A Gaussian quadrature form for approximating integral values. The solution of the Burgers equation use estimated values calculated using [Gauss-Hermite's quadrature rule](https://en.wikipedia.org/wiki/Gauss%E2%80%93Hermite_quadrature), as described in the [Basdevant et al. article](https://www.academia.edu/19081708/Spectral_and_finite_difference_solutions_of_the_Burgers_equation). The dataset generated is similar to that used by [Raissi](https://github.com/maziarraissi/PINNs/blob/master/appendix/Data/burgers_shock.mat) and other authors, and allows for an eventual comparison of results."
   ]
  },
  {
   "cell_type": "markdown",
   "id": "0661c2ed-bb87-4dee-9f3d-d63a15390b70",
   "metadata": {},
   "source": [
    "The code is an adaptation of [J. Burkardt's work](https://people.sc.fsu.edu/~jburkardt/py_src/burgers_solution/burgers_solution.py) (please follow this link for more information)."
   ]
  },
  {
   "cell_type": "markdown",
   "id": "95f58683-5c25-45c9-a7d3-575c75684a46",
   "metadata": {},
   "source": [
    "### burgers_viscous_time_exact\n",
    "\n",
    "Evaluates a solution to the Burgers equation. The form of the Burgers equation considered here is\n",
    "\n",
    "$$\\displaystyle \\frac{\\partial u}{\\partial t} + u \\frac{\\partial u}{\\partial x} = \\nu \\frac{\\partial^2 u}{\\partial x^2} $$\n",
    "\n",
    "\n",
    "for -1.0 < $x$ < +1.0, and 0 < $t$\n",
    "\n",
    "Initial conditions are $u(x, 0) = - \\sin(\\pi x)$.  Boundary conditions are $u(-1, t) = u(+1, t) = 0$ . The viscosity parameter $\\nu$ is taken to be $\\frac{0.01}{\\pi}$, although this is not essential. The authors note an integral representation for the solution $u(x, t)$, and present a better version of the formula that is amenable to approximation using Hermite quadrature. This program library does little more than evaluate the exact solution at a user-specified set of points, using the quadrature rule. The order of the quadrature rule can be changed for greater accuracy.\n",
    "\n",
    "Input:\n",
    "\n",
    "- real NU ($\\nu$), the viscosity\n",
    "- integer VXN, the number of spatial grid points\n",
    "- real VX(VXN), the spatial grid points\n",
    "- integer VTN, the number of time grid points\n",
    "- real VT(VTN), the time grid points\n",
    "- qn, the quadrature order\n",
    "\n",
    "Output:\n",
    "\n",
    "- real VU(VXN,VTN), the solution of the Burgers equation at each space and time grid point"
   ]
  },
  {
   "cell_type": "code",
   "execution_count": 52,
   "id": "a9bad517-e52c-4d76-a2c7-97cd06e1ab8c",
   "metadata": {},
   "outputs": [],
   "source": [
    "from numba import jit\n",
    "\n",
    "\n",
    "def burgers_viscous_time_exact(nu, vxn, vx, vtn, vt, qn):\n",
    "    qx, qw = hermite_ek_compute(qn)\n",
    "    #  Evaluate U(X,T) for later times.\n",
    "    vu = np.zeros([vxn, vtn])\n",
    "    for vti in range(0, vtn):\n",
    "        if (vt[vti] == 0.0):\n",
    "            for i in range(0, vxn):\n",
    "                vu[i, vti] = -np.sin(np.pi * vx[i])\n",
    "        else:\n",
    "            for vxi in range(0, vxn):\n",
    "                top = 0.0\n",
    "                bot = 0.0\n",
    "                for qi in range(0, qn):\n",
    "                    c = 2.0 * np.sqrt(nu * vt[vti])\n",
    "                    top = top - qw[qi] * c * np.sin(np.pi * (vx[vxi] - c * qx[qi])) \\\n",
    "                        * np.exp(- np.cos(np.pi * (vx[vxi] - c * qx[qi]))\n",
    "                                 / (2.0 * np.pi * nu))\n",
    "                    bot = bot + qw[qi] * c \\\n",
    "                        * np.exp(- np.cos(np.pi * (vx[vxi] - c * qx[qi]))\n",
    "                                 / (2.0 * np.pi * nu))\n",
    "                    vu[vxi, vti] = top / bot\n",
    "    return vu"
   ]
  },
  {
   "cell_type": "markdown",
   "id": "bab56b59-7b92-48f3-90fa-bced30da9bde",
   "metadata": {},
   "source": [
    "### hermite_ek_compute\n",
    "\n",
    "Computes a Gauss-Hermite quadrature rule. The code uses an algorithm by Elhay and Kautsky. The abscissas are the zeros of the N-th order Hermite polynomial. The integral and the quadrature rule is given by\n",
    "\n",
    "$$\\displaystyle \\int_{-\\infty}^{+\\infty} e^{-x^2} f(x) dx \\ \\approx \\sum_{i=1}^nw_i f(x_i)$$\n",
    "\n",
    "Input:\n",
    "\n",
    "- integer N, the number of abscissas\n",
    "\n",
    "Output:\n",
    "\n",
    "- real X(N), the abscissas\n",
    "- real W(N), the weights"
   ]
  },
  {
   "cell_type": "code",
   "execution_count": 53,
   "id": "a7250413-67ae-4e9d-ba6b-80ac091a07e8",
   "metadata": {},
   "outputs": [],
   "source": [
    "\n",
    "def hermite_ek_compute(n):\n",
    "    #  Define the zero-th moment.\n",
    "    zemu = gamma(0.5)\n",
    "    #  Define the Jacobi matrix.\n",
    "    bj = np.zeros(n)\n",
    "    for i in range(0, n):\n",
    "        bj[i] = np.sqrt(float(i + 1) / 2.0)\n",
    "    x = np.zeros(n)\n",
    "    w = np.zeros(n)\n",
    "    w[0] = np.sqrt(zemu)\n",
    "    #  Diagonalize the Jacobi matrix.\n",
    "    x, w = imtqlx(n, x, bj, w)\n",
    "    #  If N is odd, force the center X to be exactly 0.\n",
    "    if (n % 2) == 1:\n",
    "        x[(n - 1) // 2] = 0.0\n",
    "    for i in range(0, n):\n",
    "        w[i] = w[i]**2\n",
    "    return x, w"
   ]
  },
  {
   "cell_type": "markdown",
   "id": "3d96ac76-fa90-49fd-8f9c-f25c723baa44",
   "metadata": {},
   "source": [
    "### imtqlx\n",
    "\n",
    "Diagonalizes a symmetric tridiagonal matrix.\n",
    "\n",
    "Input:\n",
    "\n",
    "- integer N, the order of the matrix\n",
    "- real D(N), the diagonal entries of the matrix\n",
    "- real E(N), the subdiagonal entries of the matrix, in entries E(1) through E(N-1)\n",
    "- real Z(N), a vector to be operated on\n",
    "\n",
    "Output:\n",
    "- real LAM(N), the diagonal entries of the diagonalized matrix\n",
    "- real QTZ(N), the value of Q' * Z, where Q is the matrix that diagonalizes the input symmetric tridiagonal matrix"
   ]
  },
  {
   "cell_type": "code",
   "execution_count": 54,
   "id": "3a3d3f5f-7b2b-4c3a-b49d-5f125d2d93ad",
   "metadata": {},
   "outputs": [],
   "source": [
    "\n",
    "def imtqlx(n, d, e, z):\n",
    "    lam = np.zeros(n)\n",
    "    for i in range(0, n):\n",
    "        lam[i] = d[i]\n",
    "    qtz = np.zeros(n)\n",
    "    for i in range(0, n):\n",
    "        qtz[i] = z[i]\n",
    "    if n == 1:\n",
    "        return lam, qtz\n",
    "    itn = 30\n",
    "    epsilon = np.finfo(float).eps\n",
    "    e[n - 1] = 0.0\n",
    "    for l in range(1, n + 1):\n",
    "        j = 0\n",
    "        while True:\n",
    "            for m in range(l, n + 1):\n",
    "                if m == n:\n",
    "                    break\n",
    "                if abs(e[m - 1]) <= epsilon * (abs(lam[m - 1]) + abs(lam[m])):\n",
    "                    break\n",
    "            p = lam[l - 1]\n",
    "            if m == l:\n",
    "                break\n",
    "            if itn <= j:\n",
    "                print(\"\")\n",
    "                print(\"imtqlx - Fatal error!\")\n",
    "                print(\"  Iteration limit exceeded.\")\n",
    "                raise Exception(\"imtqlx - Fatal error!\")\n",
    "            j = j + 1\n",
    "            g = (lam[l] - p) / (2.0 * e[l - 1])\n",
    "            r = np.sqrt(g * g + 1.0)\n",
    "            if g < 0.0:\n",
    "                t = g - r\n",
    "            else:\n",
    "                t = g + r\n",
    "            g = lam[m - 1] - p + e[l - 1] / (g + t)\n",
    "            s = 1.0\n",
    "            c = 1.0\n",
    "            p = 0.0\n",
    "            mml = m - l\n",
    "            for ii in range(1, mml + 1):\n",
    "                i = m - ii\n",
    "                f = s * e[i - 1]\n",
    "                b = c * e[i - 1]\n",
    "                if abs(g) <= abs(f):\n",
    "                    c = g / f\n",
    "                    r = np.sqrt(c * c + 1.0)\n",
    "                    e[i] = f * r\n",
    "                    s = 1.0 / r\n",
    "                    c = c * s\n",
    "                else:\n",
    "                    s = f / g\n",
    "                    r = np.sqrt(s * s + 1.0)\n",
    "                    e[i] = g * r\n",
    "                    c = 1.0 / r\n",
    "                    s = s * c\n",
    "                g = lam[i] - p\n",
    "                r = (lam[i - 1] - g) * s + 2.0 * c * b\n",
    "                p = s * r\n",
    "                lam[i] = g + p\n",
    "                g = c * r - b\n",
    "                f = qtz[i]\n",
    "                qtz[i] = s * qtz[i - 1] + c * f\n",
    "                qtz[i - 1] = c * qtz[i - 1] - s * f\n",
    "            lam[l - 1] = lam[l - 1] - p\n",
    "            e[l - 1] = g\n",
    "            e[m - 1] = 0.0\n",
    "    for ii in range(2, n + 1):\n",
    "        i = ii - 1\n",
    "        k = i\n",
    "        p = lam[i - 1]\n",
    "        for j in range(ii, n + 1):\n",
    "            if lam[j - 1] < p:\n",
    "                k = j\n",
    "                p = lam[j - 1]\n",
    "        if k != i:\n",
    "            lam[k - 1] = lam[i - 1]\n",
    "            lam[i - 1] = p\n",
    "            p = qtz[i - 1]\n",
    "            qtz[i - 1] = qtz[k - 1]\n",
    "            qtz[k - 1] = p\n",
    "    return lam, qtz"
   ]
  },
  {
   "cell_type": "markdown",
   "id": "6fc9424b-98b5-476d-8635-4fc55ebfcde7",
   "metadata": {},
   "source": [
    "## Generation of data"
   ]
  },
  {
   "cell_type": "code",
   "execution_count": 55,
   "id": "1fd97cf5-2a91-4bc5-a262-2718a21eb839",
   "metadata": {},
   "outputs": [
    {
     "name": "stdout",
     "output_type": "stream",
     "text": [
      "CPU times: user 10 s, sys: 11.9 ms, total: 10.1 s\n",
      "Wall time: 10.1 s\n"
     ]
    }
   ],
   "source": [
    "%%time\n",
    "import numpy as np\n",
    "from scipy.special import gamma\n",
    "\n",
    "vtn = 100  # NT : Number of time points t\n",
    "vxn = 100  # NX : Number of space points x\n",
    "nu = 0.01 / np.pi  # Viscosity\n",
    "qn = 50  # Quadrature order\n",
    "\n",
    "xlo = -1.0  # minumum x\n",
    "xhi = +1.0  # maximum x\n",
    "vx = np.linspace(xlo, xhi, vxn)\n",
    "\n",
    "tlo = 0.0   # minumum t\n",
    "thi = 0.99  # other option: thi = 3.0 / np.pi\n",
    "vt = np.linspace(tlo, thi, vtn)\n",
    "\n",
    "vu = burgers_viscous_time_exact(nu, vxn, vx, vtn, vt, qn).T"
   ]
  },
  {
   "cell_type": "markdown",
   "id": "c4b848fa-e86f-45f7-883d-cd7348cbf48e",
   "metadata": {},
   "source": [
    "Save the data:"
   ]
  },
  {
   "cell_type": "code",
   "execution_count": 5,
   "id": "81f13c53-e00f-49fc-b09e-35b0170150d2",
   "metadata": {},
   "outputs": [],
   "source": [
    "np.savetxt(\"burgers_solution_x.csv\", vx, delimiter=\",\")\n",
    "np.savetxt(\"burgers_solution_t.csv\", vt, delimiter=\",\")\n",
    "np.savetxt(\"burgers_solution_u.csv\", vu, delimiter=\",\")"
   ]
  },
  {
   "cell_type": "code",
   "execution_count": 7,
   "id": "3c526a9e-a897-41a6-9aa9-2dca1d504ca1",
   "metadata": {},
   "outputs": [
    {
     "data": {
      "text/plain": [
       "(2000, 2000)"
      ]
     },
     "execution_count": 7,
     "metadata": {},
     "output_type": "execute_result"
    }
   ],
   "source": [
    "vu.shape"
   ]
  },
  {
   "cell_type": "code",
   "execution_count": 8,
   "id": "765d9726-ff52-4a94-9b32-67dbf2d07416",
   "metadata": {},
   "outputs": [],
   "source": [
    "import matplotlib.pyplot as plt\n",
    "import matplotlib.gridspec as gridspec"
   ]
  },
  {
   "cell_type": "code",
   "execution_count": 9,
   "id": "2d3d1677-ea04-4d36-b0cc-22ec8fc75173",
   "metadata": {},
   "outputs": [],
   "source": [
    "def graph():\n",
    "    font = {'size': 'large', 'color': 'green'}\n",
    "    gs = gridspec.GridSpec(1, 2, wspace=.5)\n",
    "\n",
    "    ax = plt.subplot(gs[0, 0])\n",
    "    ax.plot(vx, vu[2, :], '--o')\n",
    "    ax.set_title(f\"t = {vt[2]} s\", verticalalignment='bottom', **font)\n",
    "    ax.set_xlabel('x', **font)\n",
    "    ax.set_ylabel('u(t,x)', **font)\n",
    "\n",
    "    ax = plt.subplot(gs[0, 1])\n",
    "    ax.plot(vx, vu[7, :], '--o')\n",
    "    ax.set_title(f\"t = {vt[7]} s\", verticalalignment='bottom', **font)\n",
    "    ax.set_xlabel('x', **font)\n",
    "    ax.set_ylabel('u(t,x)', **font)\n",
    "    ax.set_ylim([-1, 1])\n",
    "\n",
    "    plt.show()"
   ]
  },
  {
   "cell_type": "markdown",
   "id": "ae3fb846-3245-4b7c-9d44-ced7b7d0ecea",
   "metadata": {},
   "source": [
    "Plot the \"observation points\" at two instants of time:"
   ]
  },
  {
   "cell_type": "code",
   "execution_count": 10,
   "id": "bbacc1f4-1ea5-4264-99c5-c616cfe20e47",
   "metadata": {},
   "outputs": [
    {
     "data": {
      "image/png": "[encoded data removed]",
      "text/plain": [
       "<Figure size 640x480 with 2 Axes>"
      ]
     },
     "metadata": {},
     "output_type": "display_data"
    }
   ],
   "source": [
    "graph()"
   ]
  },
  {
   "cell_type": "markdown",
   "id": "6d9865fd-35e3-4da2-8266-f5fe7b07e530",
   "metadata": {},
   "source": [
    "The data can be loaded, if desired:"
   ]
  },
  {
   "cell_type": "code",
   "execution_count": 11,
   "id": "4b49956e-a3df-4134-ab9b-57b270291067",
   "metadata": {},
   "outputs": [],
   "source": [
    "vx = np.loadtxt('burgers_solution_x.csv', delimiter=\",\")\n",
    "vt = np.loadtxt('burgers_solution_t.csv', delimiter=\",\")\n",
    "vu = np.loadtxt('burgers_solution_u.csv', delimiter=\",\")"
   ]
  },
  {
   "cell_type": "code",
   "execution_count": 47,
   "id": "2887549c-12a7-465d-9dc4-0f42171be978",
   "metadata": {},
   "outputs": [
    {
     "data": {
      "text/plain": [
       "((2000,), (2000,), (2000, 2000))"
      ]
     },
     "execution_count": 47,
     "metadata": {},
     "output_type": "execute_result"
    }
   ],
   "source": [
    "vx.shape, vt.shape, vu.shape"
   ]
  },
  {
   "cell_type": "code",
   "execution_count": 13,
   "id": "35976edb-065a-445f-b339-0cd94d02df3d",
   "metadata": {},
   "outputs": [],
   "source": [
    "import scipy.io\n",
    "data = scipy.io.loadmat('burgers_shock.mat')"
   ]
  },
  {
   "cell_type": "code",
   "execution_count": 17,
   "id": "3f6a2373-386c-46ea-b3db-6d143e8c8234",
   "metadata": {},
   "outputs": [],
   "source": [
    "t = data['t'].flatten()[:, None]\n",
    "x = data['x'].flatten()[:, None]\n",
    "Exact = np.real(data['usol']).T\n",
    "X, T = np.meshgrid(x, t)\n",
    "X_star = np.hstack((X.flatten()[:, None], T.flatten()[:, None]))\n",
    "u_star = Exact.flatten()[:, None]"
   ]
  },
  {
   "cell_type": "code",
   "execution_count": 31,
   "id": "358b4126-f1ed-49e1-afc6-ffe7a4832db8",
   "metadata": {},
   "outputs": [
    {
     "data": {
      "text/plain": [
       "(256, 100)"
      ]
     },
     "execution_count": 31,
     "metadata": {},
     "output_type": "execute_result"
    }
   ],
   "source": [
    "data['usol'].shape"
   ]
  },
  {
   "cell_type": "code",
   "execution_count": 29,
   "id": "f1fa9cff-d96e-4ca4-8a8a-a4740cca183c",
   "metadata": {},
   "outputs": [
    {
     "data": {
      "text/plain": [
       "(25600, 1)"
      ]
     },
     "execution_count": 29,
     "metadata": {},
     "output_type": "execute_result"
    }
   ],
   "source": [
    "X.flatten()[:, None].shape"
   ]
  },
  {
   "cell_type": "code",
   "execution_count": 24,
   "id": "0749f604-e211-42d4-820a-a67208464e1c",
   "metadata": {},
   "outputs": [
    {
     "data": {
      "text/plain": [
       "(25600, 2)"
      ]
     },
     "execution_count": 24,
     "metadata": {},
     "output_type": "execute_result"
    }
   ],
   "source": [
    "X_star.shape"
   ]
  },
  {
   "cell_type": "code",
   "execution_count": 25,
   "id": "fd3b00af-aa67-4514-b3fd-be26c64c2643",
   "metadata": {},
   "outputs": [
    {
     "data": {
      "text/plain": [
       "(25600, 1)"
      ]
     },
     "execution_count": 25,
     "metadata": {},
     "output_type": "execute_result"
    }
   ],
   "source": [
    "u_star.shape"
   ]
  },
  {
   "cell_type": "code",
   "execution_count": 26,
   "id": "18544ed0-5158-43b0-8a88-b4fd981e0e3e",
   "metadata": {},
   "outputs": [],
   "source": [
    "idx = np.random.choice(X_star.shape[0], 2000, replace=False)"
   ]
  },
  {
   "cell_type": "code",
   "execution_count": 27,
   "id": "a3d86d5f-c511-479b-a7a7-188efcb168e0",
   "metadata": {},
   "outputs": [
    {
     "data": {
      "text/plain": [
       "(2000,)"
      ]
     },
     "execution_count": 27,
     "metadata": {},
     "output_type": "execute_result"
    }
   ],
   "source": [
    "idx.shape"
   ]
  },
  {
   "cell_type": "code",
   "execution_count": null,
   "id": "71b9e06d-7760-4100-9a5d-57f4a579872a",
   "metadata": {},
   "outputs": [],
   "source": []
  },
  {
   "cell_type": "code",
   "execution_count": null,
   "id": "e47a304b-1520-419a-8c5c-5934e9845c47",
   "metadata": {},
   "outputs": [],
   "source": []
  },
  {
   "cell_type": "code",
   "execution_count": null,
   "id": "7a2337cd-b2fb-49e5-85d4-8c93df7bb1f7",
   "metadata": {},
   "outputs": [],
   "source": []
  }
 ],
 "metadata": {
  "kernelspec": {
   "display_name": "nb",
   "language": "python",
   "name": "nb"
  },
  "language_info": {
   "codemirror_mode": {
    "name": "ipython",
    "version": 3
   },
   "file_extension": ".py",
   "mimetype": "text/x-python",
   "name": "python",
   "nbconvert_exporter": "python",
   "pygments_lexer": "ipython3",
   "version": "3.11.4"
  }
 },
 "nbformat": 4,
 "nbformat_minor": 5
}
