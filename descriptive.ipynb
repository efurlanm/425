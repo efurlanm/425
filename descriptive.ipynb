{
 "cells": [
  {
   "cell_type": "markdown",
   "id": "820ef7e0-97c4-4c13-89be-8e44289fa4cb",
   "metadata": {},
   "source": [
    "# Descriptive statistics\n",
    "\n",
    "*Last updated: 2023-10-02*"
   ]
  },
  {
   "cell_type": "markdown",
   "id": "4f591bab-e770-4bb8-871c-8787deb2a483",
   "metadata": {},
   "source": [
    "- Set of M elements (numbers between 0 and 99)\n",
    "    - Randomly generated\n",
    "- Evaluate the distribution of generated values\n",
    "- Comparison with the documentation of the function that generates the random ones\n",
    "- Calculate various descriptive statistics quantities"
   ]
  },
  {
   "cell_type": "markdown",
   "id": "c9e126e4-7b27-4260-896c-2cb487a5f754",
   "metadata": {},
   "source": [
    "The module for generating pseudo-random values from the Python library uses the Mersenne Twister method, developed in 1997 by Matsumoto&Nishimura. The most commonly used version of the algorithm is based on the Mersenne prime number $\\displaystyle 2^{19937}-1$. A Mersenne prime number is one less than a power of two, $M_n = 2^n − 1$ for some integer $n$.\n",
    "\n",
    "Article: M. Matsumoto and T. Nishimura, “Mersenne Twister: A 623-dimensionally equidistributed uniform pseudorandom number generator”, ACM Transactions on Modeling and Computer Simulation Vol. 8, No. 1, January pp.3–30 1998."
   ]
  },
  {
   "cell_type": "markdown",
   "id": "81721f65-2de8-40bc-8d6b-0a99a4f9d06f",
   "metadata": {},
   "source": [
    "The purpose of the seed is to allow the user to \"lock\" the pseudo-random number generator, to allow replicable analysis.\n",
    "\n",
    "random() generates a random float uniformly in the semi-open interval $0.0 \\le x < 1.0$."
   ]
  },
  {
   "cell_type": "code",
   "execution_count": null,
   "id": "39ff5976-c923-49db-bc99-5e612991f4bb",
   "metadata": {},
   "outputs": [],
   "source": [
    "import math as mt\n",
    "import statistics as st\n",
    "import random as rd"
   ]
  },
  {
   "cell_type": "code",
   "execution_count": 26,
   "id": "56b6b838-b329-47a7-ad3d-7a927afc1198",
   "metadata": {},
   "outputs": [
    {
     "data": {
      "text/plain": [
       "0.13436424411240122"
      ]
     },
     "execution_count": 26,
     "metadata": {},
     "output_type": "execute_result"
    }
   ],
   "source": [
    "rd.seed(1)\n",
    "rd.random()"
   ]
  },
  {
   "cell_type": "code",
   "execution_count": 27,
   "id": "5dc35cf9-d4b2-4756-99e4-6c76e16b753e",
   "metadata": {},
   "outputs": [
    {
     "data": {
      "text/plain": [
       "[84, 76, 25, 49, 44, 65, 78, 9, 2, 83, 43, 76, 0, 44, 72, 22, 94, 90, 3, 2]"
      ]
     },
     "execution_count": 27,
     "metadata": {},
     "output_type": "execute_result"
    }
   ],
   "source": [
    "m = 20\n",
    "sample = [int(rd.random()*100) for _ in range(m)]\n",
    "sample"
   ]
  },
  {
   "cell_type": "markdown",
   "id": "da9c5920-554e-439f-a39a-8731007127be",
   "metadata": {},
   "source": [
    "## Mean"
   ]
  },
  {
   "cell_type": "code",
   "execution_count": 28,
   "id": "857e88ce-ac72-44ca-a17d-bdfa28286efd",
   "metadata": {},
   "outputs": [
    {
     "data": {
      "text/plain": [
       "48.05"
      ]
     },
     "execution_count": 28,
     "metadata": {},
     "output_type": "execute_result"
    }
   ],
   "source": [
    "mean = sum(sample) / len(sample)\n",
    "mean"
   ]
  },
  {
   "cell_type": "markdown",
   "id": "85373f83-a888-4b6b-a2a1-5054abbfe734",
   "metadata": {},
   "source": [
    "### Checking"
   ]
  },
  {
   "cell_type": "code",
   "execution_count": 29,
   "id": "8450fcb6-9608-413a-9e57-f1119ae5685c",
   "metadata": {},
   "outputs": [
    {
     "data": {
      "text/plain": [
       "48.05"
      ]
     },
     "execution_count": 29,
     "metadata": {},
     "output_type": "execute_result"
    }
   ],
   "source": [
    "st.mean(sample)"
   ]
  },
  {
   "cell_type": "markdown",
   "id": "def93edb-e198-40b0-ae36-7e4e65a2f62b",
   "metadata": {},
   "source": [
    "## Median\n",
    "\n",
    "To find the median, we need to:\n",
    "\n",
    "1. Sort the sample\n",
    "2. Locate the value in the middle of the sorted sample\n",
    "\n",
    "And then\n",
    "\n",
    "- If the sample has an odd number of observations, then\n",
    "    - The middle value is the median\n",
    "- Else\n",
    "    - Calculate the mean of the two middle values\n",
    "\n",
    "Example:\n",
    "\n",
    "- [3, 5, 1, 4, 2], sort: [1, 2, 3, 4, 5], median: 3\n",
    "\n",
    "- [1, 2, 3, 4, 5, 6], median: (3 + 4) / 2 = 3.5"
   ]
  },
  {
   "cell_type": "markdown",
   "id": "a2b293d9-5c24-401a-b95e-c8da83e3177a",
   "metadata": {},
   "source": [
    "### Median of the sample"
   ]
  },
  {
   "cell_type": "code",
   "execution_count": 30,
   "id": "1e8b9c40-d53f-48a0-9a0c-ebf2a4193269",
   "metadata": {},
   "outputs": [
    {
     "data": {
      "text/plain": [
       "[0, 2, 2, 3, 9, 22, 25, 43, 44, 44, 49, 65, 72, 76, 76, 78, 83, 84, 90, 94]"
      ]
     },
     "execution_count": 30,
     "metadata": {},
     "output_type": "execute_result"
    }
   ],
   "source": [
    "sor = sorted(sample)\n",
    "sor"
   ]
  },
  {
   "cell_type": "markdown",
   "id": "e85be699-b130-40a4-bf08-70b592529052",
   "metadata": {},
   "source": [
    "    \"//\" = integer division\n",
    "    \"%\" = remainder"
   ]
  },
  {
   "cell_type": "code",
   "execution_count": 31,
   "id": "e58ae625-7fe2-4279-a684-01b4a49a97cb",
   "metadata": {},
   "outputs": [
    {
     "data": {
      "text/plain": [
       "10"
      ]
     },
     "execution_count": 31,
     "metadata": {},
     "output_type": "execute_result"
    }
   ],
   "source": [
    "mid = len(sor) // 2\n",
    "mid"
   ]
  },
  {
   "cell_type": "code",
   "execution_count": 32,
   "id": "9b9470c7-9001-481b-af5d-8d485ab620dc",
   "metadata": {},
   "outputs": [
    {
     "data": {
      "text/plain": [
       "0"
      ]
     },
     "execution_count": 32,
     "metadata": {},
     "output_type": "execute_result"
    }
   ],
   "source": [
    "odd = len(sor) % 2\n",
    "odd"
   ]
  },
  {
   "cell_type": "code",
   "execution_count": 33,
   "id": "a830eef8-16b8-43b1-b4c9-2fdd50e4d75a",
   "metadata": {},
   "outputs": [
    {
     "data": {
      "text/plain": [
       "46.5"
      ]
     },
     "execution_count": 33,
     "metadata": {},
     "output_type": "execute_result"
    }
   ],
   "source": [
    "if odd :\n",
    "    med = sor[mid]\n",
    "else :\n",
    "    med = sum(sor[mid-1:mid+1])/2\n",
    "\n",
    "med"
   ]
  },
  {
   "cell_type": "markdown",
   "id": "be1696ed-9a99-450f-9ed1-c25363c8f72b",
   "metadata": {},
   "source": [
    "### Checking"
   ]
  },
  {
   "cell_type": "code",
   "execution_count": 34,
   "id": "6ef66b93-ea11-41b3-80ff-faebb0beb7c7",
   "metadata": {},
   "outputs": [
    {
     "data": {
      "text/plain": [
       "46.5"
      ]
     },
     "execution_count": 34,
     "metadata": {},
     "output_type": "execute_result"
    }
   ],
   "source": [
    "st.median(sample)"
   ]
  },
  {
   "cell_type": "markdown",
   "id": "084d6132-ba9e-4fe8-83a5-7ec2cee86b2f",
   "metadata": {},
   "source": [
    "## Mode\n",
    "\n",
    "The most frequent observation"
   ]
  },
  {
   "cell_type": "code",
   "execution_count": 35,
   "id": "df312d6c-000d-4680-9c5c-516c7e0ade2f",
   "metadata": {},
   "outputs": [],
   "source": [
    "from collections import Counter"
   ]
  },
  {
   "cell_type": "markdown",
   "id": "bb6b8557-e9f3-4c4f-8550-d35980c965b9",
   "metadata": {},
   "source": [
    "\"Counter\" counts the number of objects"
   ]
  },
  {
   "cell_type": "code",
   "execution_count": 36,
   "id": "83f9267e-5dd2-4bab-8df8-211fbe8019b5",
   "metadata": {},
   "outputs": [
    {
     "data": {
      "text/plain": [
       "Counter({84: 1,\n",
       "         76: 2,\n",
       "         25: 1,\n",
       "         49: 1,\n",
       "         44: 2,\n",
       "         65: 1,\n",
       "         78: 1,\n",
       "         9: 1,\n",
       "         2: 2,\n",
       "         83: 1,\n",
       "         43: 1,\n",
       "         0: 1,\n",
       "         72: 1,\n",
       "         22: 1,\n",
       "         94: 1,\n",
       "         90: 1,\n",
       "         3: 1})"
      ]
     },
     "execution_count": 36,
     "metadata": {},
     "output_type": "execute_result"
    }
   ],
   "source": [
    "c = Counter(sample)\n",
    "c"
   ]
  },
  {
   "cell_type": "markdown",
   "id": "2be78cca-4c06-428b-8c07-fec682f52be5",
   "metadata": {},
   "source": [
    "most_common() returns a list of top 'n' elements from most common to least common"
   ]
  },
  {
   "cell_type": "code",
   "execution_count": 37,
   "id": "5c368fa9-188c-47f0-af46-a8e23e96a443",
   "metadata": {},
   "outputs": [
    {
     "data": {
      "text/plain": [
       "[(76, 2),\n",
       " (44, 2),\n",
       " (2, 2),\n",
       " (84, 1),\n",
       " (25, 1),\n",
       " (49, 1),\n",
       " (65, 1),\n",
       " (78, 1),\n",
       " (9, 1),\n",
       " (83, 1),\n",
       " (43, 1),\n",
       " (0, 1),\n",
       " (72, 1),\n",
       " (22, 1),\n",
       " (94, 1),\n",
       " (90, 1),\n",
       " (3, 1)]"
      ]
     },
     "execution_count": 37,
     "metadata": {},
     "output_type": "execute_result"
    }
   ],
   "source": [
    "c.most_common()"
   ]
  },
  {
   "cell_type": "code",
   "execution_count": 38,
   "id": "1412805a-d674-4966-b3f1-72ccf63742de",
   "metadata": {},
   "outputs": [
    {
     "data": {
      "text/plain": [
       "[(76, 2)]"
      ]
     },
     "execution_count": 38,
     "metadata": {},
     "output_type": "execute_result"
    }
   ],
   "source": [
    "c.most_common(1)"
   ]
  },
  {
   "cell_type": "code",
   "execution_count": 39,
   "id": "ad76c426-32da-4034-88ae-ea49ce94f6a4",
   "metadata": {},
   "outputs": [
    {
     "data": {
      "text/plain": [
       "2"
      ]
     },
     "execution_count": 39,
     "metadata": {},
     "output_type": "execute_result"
    }
   ],
   "source": [
    "m = c.most_common(1)[0][1]\n",
    "m"
   ]
  },
  {
   "cell_type": "code",
   "execution_count": 40,
   "id": "83350484-eacf-472d-ad0d-21977cdf22a9",
   "metadata": {},
   "outputs": [
    {
     "data": {
      "text/plain": [
       "dict_items([(84, 1), (76, 2), (25, 1), (49, 1), (44, 2), (65, 1), (78, 1), (9, 1), (2, 2), (83, 1), (43, 1), (0, 1), (72, 1), (22, 1), (94, 1), (90, 1), (3, 1)])"
      ]
     },
     "execution_count": 40,
     "metadata": {},
     "output_type": "execute_result"
    }
   ],
   "source": [
    "d = c.items()\n",
    "d"
   ]
  },
  {
   "cell_type": "markdown",
   "id": "41c67205-06f4-4d54-9775-a8d7d8e2450c",
   "metadata": {},
   "source": [
    "Mode:"
   ]
  },
  {
   "cell_type": "code",
   "execution_count": 42,
   "id": "06c2b747-e2cb-4867-9385-d1ca9f293f01",
   "metadata": {},
   "outputs": [
    {
     "data": {
      "text/plain": [
       "[76, 44, 2]"
      ]
     },
     "execution_count": 42,
     "metadata": {},
     "output_type": "execute_result"
    }
   ],
   "source": [
    "mde = [k for (k, v) in d if v == m]\n",
    "mde"
   ]
  },
  {
   "cell_type": "markdown",
   "id": "f1612864-da24-4cbf-8203-9d1f61025dce",
   "metadata": {},
   "source": [
    "## Variance\n",
    "\n",
    "Measure of how far the values in a data set are from the mean or mean value.\n",
    "\n",
    "$\\sigma^2 = \\frac{1}{n}{\\sum_{i=0}^{n-1}{(x_i - \\mu)^2}}$\n",
    "\n",
    "$\\mu$ = mean\n",
    "\n",
    "Example:"
   ]
  },
  {
   "cell_type": "code",
   "execution_count": 151,
   "id": "a3de8ebe-9a3b-4235-9c53-e0d2e84654b1",
   "metadata": {},
   "outputs": [],
   "source": [
    "d = [3, 5, 2, 7, 1, 3]"
   ]
  },
  {
   "cell_type": "code",
   "execution_count": 152,
   "id": "3d4b0aaf-1ed0-438d-b1e6-b650db4b4811",
   "metadata": {},
   "outputs": [
    {
     "data": {
      "text/plain": [
       "3.5"
      ]
     },
     "execution_count": 152,
     "metadata": {},
     "output_type": "execute_result"
    }
   ],
   "source": [
    "u = sum(d) / len(d)\n",
    "u"
   ]
  },
  {
   "cell_type": "code",
   "execution_count": 153,
   "id": "8674b822-51e1-4b85-9a6a-92cac87dbf23",
   "metadata": {},
   "outputs": [
    {
     "data": {
      "text/plain": [
       "[0.25, 2.25, 2.25, 12.25, 6.25, 0.25]"
      ]
     },
     "execution_count": 153,
     "metadata": {},
     "output_type": "execute_result"
    }
   ],
   "source": [
    "a = [(i-u)**2 for i in d]\n",
    "a"
   ]
  },
  {
   "cell_type": "code",
   "execution_count": 154,
   "id": "376aba2a-413e-406e-a6bd-872d056e7135",
   "metadata": {},
   "outputs": [
    {
     "data": {
      "text/plain": [
       "'3.9167'"
      ]
     },
     "execution_count": 154,
     "metadata": {},
     "output_type": "execute_result"
    }
   ],
   "source": [
    "s = sum(a) / len(a)\n",
    "f\"{s:.4f}\""
   ]
  },
  {
   "cell_type": "markdown",
   "id": "f228a242-b0d9-4f4c-93ff-db17fdff33c3",
   "metadata": {},
   "source": [
    "### Applying to sample"
   ]
  },
  {
   "cell_type": "code",
   "execution_count": 43,
   "id": "324120d4-be90-4f68-b941-d1b855f71f84",
   "metadata": {},
   "outputs": [
    {
     "data": {
      "text/plain": [
       "'1053.9475'"
      ]
     },
     "execution_count": 43,
     "metadata": {},
     "output_type": "execute_result"
    }
   ],
   "source": [
    "u = sum(sample) / len(sample)\n",
    "a = [(i-u)**2 for i in sample]\n",
    "s = sum(a) / len(a)\n",
    "f\"{s:.4f}\""
   ]
  },
  {
   "cell_type": "markdown",
   "id": "24593cee-358c-4b9c-919e-54dd20ca5db2",
   "metadata": {},
   "source": [
    "### Checking"
   ]
  },
  {
   "cell_type": "code",
   "execution_count": 44,
   "id": "804642dd-09b4-4180-a28e-70b49536b55d",
   "metadata": {},
   "outputs": [
    {
     "data": {
      "text/plain": [
       "'1053.9475'"
      ]
     },
     "execution_count": 44,
     "metadata": {},
     "output_type": "execute_result"
    }
   ],
   "source": [
    "f'{st.pvariance(sample):.4f}'"
   ]
  },
  {
   "cell_type": "markdown",
   "id": "b23e39f2-ab6c-4643-a1a8-9108bff41c17",
   "metadata": {},
   "source": [
    "## Standard Deviation\n",
    "\n",
    "Measures the amount of variation or dispersion of a set of numeric values.\n",
    "\n",
    "The standard deviation is a useful measurement because it has the same unit of measurement as the data itself.\n",
    "\n",
    "$\\sigma = \\sqrt{\\sigma^2}$"
   ]
  },
  {
   "cell_type": "code",
   "execution_count": 47,
   "id": "e738676e-8015-4f50-bdc9-6084878905b9",
   "metadata": {},
   "outputs": [
    {
     "data": {
      "text/plain": [
       "'32.4646'"
      ]
     },
     "execution_count": 47,
     "metadata": {},
     "output_type": "execute_result"
    }
   ],
   "source": [
    "sd = f'{mt.sqrt(s):.4f}'\n",
    "sd"
   ]
  },
  {
   "cell_type": "markdown",
   "id": "6f5cf328-6142-4457-a3b0-b75d13502713",
   "metadata": {},
   "source": [
    "### Checking"
   ]
  },
  {
   "cell_type": "code",
   "execution_count": 46,
   "id": "975097aa-2d39-4999-aceb-d4e3c73db27f",
   "metadata": {},
   "outputs": [
    {
     "data": {
      "text/plain": [
       "'32.4646'"
      ]
     },
     "execution_count": 46,
     "metadata": {},
     "output_type": "execute_result"
    }
   ],
   "source": [
    "f'{st.pstdev(sample):.4f}'"
   ]
  },
  {
   "cell_type": "markdown",
   "id": "772cde8d-4863-4691-bcb9-88076dcc35ae",
   "metadata": {},
   "source": [
    "## Comments"
   ]
  },
  {
   "cell_type": "code",
   "execution_count": null,
   "id": "78664666-be07-457c-a5d5-1284ed2329f7",
   "metadata": {},
   "outputs": [],
   "source": []
  }
 ],
 "metadata": {
  "kernelspec": {
   "display_name": "py311",
   "language": "python",
   "name": "py311"
  },
  "language_info": {
   "codemirror_mode": {
    "name": "ipython",
    "version": 3
   },
   "file_extension": ".py",
   "mimetype": "text/x-python",
   "name": "python",
   "nbconvert_exporter": "python",
   "pygments_lexer": "ipython3",
   "version": "3.11.3"
  }
 },
 "nbformat": 4,
 "nbformat_minor": 5
}
