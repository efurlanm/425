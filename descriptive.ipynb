{
 "cells": [
  {
   "cell_type": "markdown",
   "id": "820ef7e0-97c4-4c13-89be-8e44289fa4cb",
   "metadata": {},
   "source": [
    "# Descriptive statistics\n",
    "\n",
    "*Last updated: 2023-10-02*"
   ]
  },
  {
   "cell_type": "markdown",
   "id": "4f591bab-e770-4bb8-871c-8787deb2a483",
   "metadata": {},
   "source": [
    "- Set of M elements (numbers between 0 and 99)\n",
    "    - Randomly generated\n",
    "- Evaluate the distribution of generated values\n",
    "- Comparison with the documentation of the function that generates the random ones\n",
    "- Calculate various descriptive statistics quantities"
   ]
  },
  {
   "cell_type": "markdown",
   "id": "c9e126e4-7b27-4260-896c-2cb487a5f754",
   "metadata": {},
   "source": [
    "The module for generating pseudo-random values from the Python library uses the Mersenne Twister method, developed in 1997 by Matsumoto&Nishimura. The most commonly used version of the algorithm is based on the Mersenne prime number $\\displaystyle 2^{19937}-1$. A Mersenne prime number is one less than a power of two, $M_n = 2^n − 1$ for some integer $n$.\n",
    "\n",
    "Article: M. Matsumoto and T. Nishimura, “Mersenne Twister: A 623-dimensionally equidistributed uniform pseudorandom number generator”, ACM Transactions on Modeling and Computer Simulation Vol. 8, No. 1, January pp.3–30 1998."
   ]
  },
  {
   "cell_type": "markdown",
   "id": "81721f65-2de8-40bc-8d6b-0a99a4f9d06f",
   "metadata": {},
   "source": [
    "The purpose of the seed is to allow the user to \"lock\" the pseudo-random number generator, to allow replicable analysis.\n",
    "\n",
    "random() generates a random float uniformly in the semi-open interval $0.0 \\le x < 1.0$."
   ]
  },
  {
   "cell_type": "code",
   "execution_count": 265,
   "id": "39ff5976-c923-49db-bc99-5e612991f4bb",
   "metadata": {},
   "outputs": [],
   "source": [
    "import numpy as np\n",
    "import math as mt\n",
    "from collections import Counter\n",
    "import statistics as st\n",
    "import scipy.stats as ss\n",
    "import random as rd\n",
    "import seaborn as sns\n",
    "import matplotlib.pyplot as plt\n",
    "from IPython.display import Markdown as md"
   ]
  },
  {
   "cell_type": "code",
   "execution_count": 138,
   "id": "56b6b838-b329-47a7-ad3d-7a927afc1198",
   "metadata": {},
   "outputs": [
    {
     "data": {
      "text/plain": [
       "0.13436424411240122"
      ]
     },
     "execution_count": 138,
     "metadata": {},
     "output_type": "execute_result"
    }
   ],
   "source": [
    "rd.seed(1)\n",
    "rd.random()"
   ]
  },
  {
   "cell_type": "markdown",
   "id": "dc20a59f-fd5c-4c2c-a7ca-f452f4a92115",
   "metadata": {},
   "source": [
    "Linear distribution:"
   ]
  },
  {
   "cell_type": "code",
   "execution_count": 139,
   "id": "5dc35cf9-d4b2-4756-99e4-6c76e16b753e",
   "metadata": {},
   "outputs": [
    {
     "data": {
      "text/plain": [
       "[84, 76, 25, 49, 44, 65, 78, 9, 2, 83]"
      ]
     },
     "execution_count": 139,
     "metadata": {},
     "output_type": "execute_result"
    }
   ],
   "source": [
    "m = 1000\n",
    "sample = [int(rd.random()*100) for _ in range(m)]\n",
    "sample[:10]"
   ]
  },
  {
   "cell_type": "markdown",
   "id": "4f1ef165-5426-4cda-9408-20c65d11dae6",
   "metadata": {},
   "source": [
    "Non-linear distribution:"
   ]
  },
  {
   "cell_type": "code",
   "execution_count": 288,
   "id": "24f699ff-ac1d-4b4d-9dc1-c77f369a1a20",
   "metadata": {},
   "outputs": [
    {
     "name": "stdout",
     "output_type": "stream",
     "text": [
      "[ 0  1  2  3  4  5  6  7  8  9 10 11 12 13 14 15 16 17 18 19 20 21 22 23\n",
      " 24 25 26 27 28 29 30 31 32 33 34 35 36 37 38 39 40 41 42 43 44 45 46 47\n",
      " 48 49 50 51 52 53 54 55 56 57 58 59 60 61 62 63 64 65 66 67 68 69 70 71\n",
      " 72 73 74 75 76 77 78 79 80 81 82 83 84 85 86 87 88 89 90 91 92 93 94 95\n",
      " 96 97 99]\n",
      "[ 0 16 31 44 55 64 72 79 84 88 92 95 96 98 98 99 98 98 97 95 94 92 90 88\n",
      " 86 84 81 79 76 74 72 69 67 64 62 60 57 55 53 51 49 46 44 43 41 39 37 35\n",
      " 34 32 31 29 28 27 25 24 23 22 21 20 19 18 17 16 15 14 14 13 12 11 11 10\n",
      " 10  9  9  8  8  7  7  7  6  6  5  5  5  5  4  4  4  4  3  3  3  3  3  2\n",
      "  2  2  2]\n"
     ]
    }
   ],
   "source": [
    "x = np.linspace (0, 99, 99).astype(int)\n",
    "sample = ss.gamma.pdf(x, a=2, scale=15)\n",
    "sample = y / max(y) * 99\n",
    "sample = y.astype(int)\n",
    "print(x)\n",
    "print(sample)"
   ]
  },
  {
   "cell_type": "markdown",
   "id": "da9c5920-554e-439f-a39a-8731007127be",
   "metadata": {},
   "source": [
    "## Mean"
   ]
  },
  {
   "cell_type": "code",
   "execution_count": 291,
   "id": "857e88ce-ac72-44ca-a17d-bdfa28286efd",
   "metadata": {},
   "outputs": [
    {
     "data": {
      "text/plain": [
       "39.484848484848484"
      ]
     },
     "execution_count": 291,
     "metadata": {},
     "output_type": "execute_result"
    }
   ],
   "source": [
    "mean = sum(sample) / len(sample)\n",
    "mean"
   ]
  },
  {
   "cell_type": "markdown",
   "id": "85373f83-a888-4b6b-a2a1-5054abbfe734",
   "metadata": {},
   "source": [
    "### Checking"
   ]
  },
  {
   "cell_type": "code",
   "execution_count": 292,
   "id": "8450fcb6-9608-413a-9e57-f1119ae5685c",
   "metadata": {},
   "outputs": [
    {
     "data": {
      "text/plain": [
       "39"
      ]
     },
     "execution_count": 292,
     "metadata": {},
     "output_type": "execute_result"
    }
   ],
   "source": [
    "st.mean(sample)"
   ]
  },
  {
   "cell_type": "markdown",
   "id": "def93edb-e198-40b0-ae36-7e4e65a2f62b",
   "metadata": {},
   "source": [
    "## Median\n",
    "\n",
    "To find the median, we need to:\n",
    "\n",
    "1. Sort the sample\n",
    "2. Locate the value in the middle of the sorted sample\n",
    "\n",
    "And then\n",
    "\n",
    "- If the sample has an odd number of observations, then\n",
    "    - The middle value is the median\n",
    "- Else\n",
    "    - Calculate the mean of the two middle values\n",
    "\n",
    "Example:\n",
    "\n",
    "- [3, 5, 1, 4, 2], sort: [1, 2, 3, 4, 5], median: 3\n",
    "\n",
    "- [1, 2, 3, 4, 5, 6], median: (3 + 4) / 2 = 3.5"
   ]
  },
  {
   "cell_type": "markdown",
   "id": "a2b293d9-5c24-401a-b95e-c8da83e3177a",
   "metadata": {},
   "source": [
    "### Sample median"
   ]
  },
  {
   "cell_type": "code",
   "execution_count": 293,
   "id": "1e8b9c40-d53f-48a0-9a0c-ebf2a4193269",
   "metadata": {},
   "outputs": [],
   "source": [
    "sor = sorted(sample)"
   ]
  },
  {
   "cell_type": "markdown",
   "id": "e85be699-b130-40a4-bf08-70b592529052",
   "metadata": {},
   "source": [
    "    \"//\" = integer division\n",
    "    \"%\" = remainder"
   ]
  },
  {
   "cell_type": "code",
   "execution_count": 294,
   "id": "e58ae625-7fe2-4279-a684-01b4a49a97cb",
   "metadata": {},
   "outputs": [
    {
     "data": {
      "text/plain": [
       "49"
      ]
     },
     "execution_count": 294,
     "metadata": {},
     "output_type": "execute_result"
    }
   ],
   "source": [
    "mid = len(sor) // 2\n",
    "mid"
   ]
  },
  {
   "cell_type": "code",
   "execution_count": 295,
   "id": "9b9470c7-9001-481b-af5d-8d485ab620dc",
   "metadata": {},
   "outputs": [
    {
     "data": {
      "text/plain": [
       "1"
      ]
     },
     "execution_count": 295,
     "metadata": {},
     "output_type": "execute_result"
    }
   ],
   "source": [
    "odd = len(sor) % 2\n",
    "odd"
   ]
  },
  {
   "cell_type": "code",
   "execution_count": 296,
   "id": "a830eef8-16b8-43b1-b4c9-2fdd50e4d75a",
   "metadata": {},
   "outputs": [
    {
     "data": {
      "text/plain": [
       "29"
      ]
     },
     "execution_count": 296,
     "metadata": {},
     "output_type": "execute_result"
    }
   ],
   "source": [
    "if odd :\n",
    "    medi = sor[mid]\n",
    "else :\n",
    "    medi = sum(sor[mid-1:mid+1])/2\n",
    "\n",
    "medi"
   ]
  },
  {
   "cell_type": "markdown",
   "id": "be1696ed-9a99-450f-9ed1-c25363c8f72b",
   "metadata": {},
   "source": [
    "### Checking"
   ]
  },
  {
   "cell_type": "code",
   "execution_count": 297,
   "id": "6ef66b93-ea11-41b3-80ff-faebb0beb7c7",
   "metadata": {},
   "outputs": [
    {
     "data": {
      "text/plain": [
       "29"
      ]
     },
     "execution_count": 297,
     "metadata": {},
     "output_type": "execute_result"
    }
   ],
   "source": [
    "st.median(sample)"
   ]
  },
  {
   "attachments": {
    "55eae5a5-447d-455f-98ca-3122f235b066.png": {
     "image/png": "[encoded data removed]"
    }
   },
   "cell_type": "markdown",
   "id": "084d6132-ba9e-4fe8-83a5-7ec2cee86b2f",
   "metadata": {},
   "source": [
    "## Mode\n",
    "\n",
    "![image.png](attachment:55eae5a5-447d-455f-98ca-3122f235b066.png)\n",
    "\n",
    "- The most frequent observation\n",
    "- Given the list of data [1, 1, 2, 4, 4] its mode is not unique. A dataset, in such a case, is said to be bimodal, while a set with more than two modes may be described as multimodal. "
   ]
  },
  {
   "cell_type": "markdown",
   "id": "bb6b8557-e9f3-4c4f-8550-d35980c965b9",
   "metadata": {},
   "source": [
    "\"Counter\" counts the number of objects"
   ]
  },
  {
   "cell_type": "code",
   "execution_count": 298,
   "id": "83f9267e-5dd2-4bab-8df8-211fbe8019b5",
   "metadata": {},
   "outputs": [],
   "source": [
    "c = Counter(sample)"
   ]
  },
  {
   "cell_type": "markdown",
   "id": "2be78cca-4c06-428b-8c07-fec682f52be5",
   "metadata": {},
   "source": [
    "most_common() returns a list of top 'n' elements from most common to least common"
   ]
  },
  {
   "cell_type": "code",
   "execution_count": 299,
   "id": "1412805a-d674-4966-b3f1-72ccf63742de",
   "metadata": {},
   "outputs": [
    {
     "data": {
      "text/plain": [
       "[(3, 5), (98, 4), (5, 4)]"
      ]
     },
     "execution_count": 299,
     "metadata": {},
     "output_type": "execute_result"
    }
   ],
   "source": [
    "c.most_common(3)"
   ]
  },
  {
   "cell_type": "code",
   "execution_count": 300,
   "id": "50151dce-81b7-48cf-a2a9-d5ef6a88ee31",
   "metadata": {},
   "outputs": [],
   "source": [
    "n = c.most_common()[0][1]"
   ]
  },
  {
   "cell_type": "markdown",
   "id": "41c67205-06f4-4d54-9775-a8d7d8e2450c",
   "metadata": {},
   "source": [
    "#### Sample mode"
   ]
  },
  {
   "cell_type": "code",
   "execution_count": 301,
   "id": "06c2b747-e2cb-4867-9385-d1ca9f293f01",
   "metadata": {},
   "outputs": [
    {
     "data": {
      "text/plain": [
       "[3]"
      ]
     },
     "execution_count": 301,
     "metadata": {},
     "output_type": "execute_result"
    }
   ],
   "source": [
    "mde = [k for (k, v) in c.items() if v == n]\n",
    "mde"
   ]
  },
  {
   "cell_type": "markdown",
   "id": "809dbc76-99e9-452c-90aa-4c7ad39439a4",
   "metadata": {},
   "source": [
    "#### Checking"
   ]
  },
  {
   "cell_type": "code",
   "execution_count": 302,
   "id": "efcb10c6-7b11-4712-88ef-57068d161580",
   "metadata": {},
   "outputs": [
    {
     "data": {
      "text/plain": [
       "[3]"
      ]
     },
     "execution_count": 302,
     "metadata": {},
     "output_type": "execute_result"
    }
   ],
   "source": [
    "st.multimode(sample)"
   ]
  },
  {
   "cell_type": "markdown",
   "id": "6b90dca9-5805-4f90-91b7-8a962122bf1a",
   "metadata": {},
   "source": [
    "st.mode(): If there is more than one such value, the first is returned:"
   ]
  },
  {
   "cell_type": "code",
   "execution_count": 303,
   "id": "6a463cf1-8498-4ed2-ace4-51bf06b47b43",
   "metadata": {},
   "outputs": [
    {
     "data": {
      "text/plain": [
       "3"
      ]
     },
     "execution_count": 303,
     "metadata": {},
     "output_type": "execute_result"
    }
   ],
   "source": [
    "st.mode(sample)"
   ]
  },
  {
   "cell_type": "markdown",
   "id": "d226039d-ecb5-4c19-a28b-62b9b3e5e684",
   "metadata": {},
   "source": [
    "ss.mode(): If there is more than one such value, the smaller is returned:"
   ]
  },
  {
   "cell_type": "code",
   "execution_count": 304,
   "id": "80ec90e6-2afa-40df-b645-cf3f4e4c95fe",
   "metadata": {},
   "outputs": [
    {
     "data": {
      "text/plain": [
       "ModeResult(mode=3, count=5)"
      ]
     },
     "execution_count": 304,
     "metadata": {},
     "output_type": "execute_result"
    }
   ],
   "source": [
    "ss.mode(sample)"
   ]
  },
  {
   "cell_type": "markdown",
   "id": "f1612864-da24-4cbf-8203-9d1f61025dce",
   "metadata": {},
   "source": [
    "## Variance\n",
    "\n",
    "Measure of how far the values in a data set are from the mean or mean value.\n",
    "\n",
    "$\\sigma^2 = \\frac{1}{n}{\\sum_{i=0}^{n-1}{(x_i - \\mu)^2}}$\n",
    "\n",
    "$\\mu$ = mean"
   ]
  },
  {
   "cell_type": "markdown",
   "id": "f228a242-b0d9-4f4c-93ff-db17fdff33c3",
   "metadata": {},
   "source": [
    "### Sample variance"
   ]
  },
  {
   "cell_type": "code",
   "execution_count": 309,
   "id": "324120d4-be90-4f68-b941-d1b855f71f84",
   "metadata": {},
   "outputs": [
    {
     "data": {
      "text/plain": [
       "'1119.1993'"
      ]
     },
     "execution_count": 309,
     "metadata": {},
     "output_type": "execute_result"
    }
   ],
   "source": [
    "u = sum(sample) / len(sample)\n",
    "a = [(i-u)**2 for i in sample]\n",
    "s = sum(a) / len(a)\n",
    "f\"{s:.4f}\""
   ]
  },
  {
   "cell_type": "markdown",
   "id": "24593cee-358c-4b9c-919e-54dd20ca5db2",
   "metadata": {},
   "source": [
    "### Checking"
   ]
  },
  {
   "cell_type": "code",
   "execution_count": 310,
   "id": "804642dd-09b4-4180-a28e-70b49536b55d",
   "metadata": {},
   "outputs": [
    {
     "data": {
      "text/plain": [
       "'1119.0000'"
      ]
     },
     "execution_count": 310,
     "metadata": {},
     "output_type": "execute_result"
    }
   ],
   "source": [
    "f'{st.pvariance(sample):.4f}'"
   ]
  },
  {
   "cell_type": "markdown",
   "id": "b23e39f2-ab6c-4643-a1a8-9108bff41c17",
   "metadata": {},
   "source": [
    "## Standard Deviation\n",
    "\n",
    "Measures the amount of variation or dispersion of a set of numeric values.\n",
    "\n",
    "The standard deviation is a useful measurement because it has the same unit of measurement as the data itself.\n",
    "\n",
    "$\\sigma = \\sqrt{\\sigma^2}$"
   ]
  },
  {
   "cell_type": "code",
   "execution_count": 340,
   "id": "e738676e-8015-4f50-bdc9-6084878905b9",
   "metadata": {},
   "outputs": [
    {
     "data": {
      "text/plain": [
       "33.45443566077723"
      ]
     },
     "execution_count": 340,
     "metadata": {},
     "output_type": "execute_result"
    }
   ],
   "source": [
    "sigma = mt.sqrt(s)\n",
    "sigma"
   ]
  },
  {
   "cell_type": "markdown",
   "id": "6f5cf328-6142-4457-a3b0-b75d13502713",
   "metadata": {},
   "source": [
    "### Checking"
   ]
  },
  {
   "cell_type": "code",
   "execution_count": 341,
   "id": "975097aa-2d39-4999-aceb-d4e3c73db27f",
   "metadata": {},
   "outputs": [
    {
     "data": {
      "text/plain": [
       "33.454435660777236"
      ]
     },
     "execution_count": 341,
     "metadata": {},
     "output_type": "execute_result"
    }
   ],
   "source": [
    "st.pstdev(sample.astype(float))"
   ]
  },
  {
   "cell_type": "markdown",
   "id": "772cde8d-4863-4691-bcb9-88076dcc35ae",
   "metadata": {},
   "source": [
    "## Comparison"
   ]
  },
  {
   "cell_type": "code",
   "execution_count": 343,
   "id": "5954b7a5-bef3-4ca0-9ded-c5210e2b3c97",
   "metadata": {},
   "outputs": [
    {
     "data": {
      "text/markdown": [
       "\n",
       "| Type | Description | Result |\n",
       "| --- | --- | --- |\n",
       "| Mean | Sum of values divided by number of values | 39.4848 |\n",
       "| Median | Middle value separating the greater and lesser halves | 29.0000 |\n",
       "| Mode | The most frequent observation | [3] |\n",
       "| Variance | How far the values are from the mean | 1119 |\n",
       "| SDeviation | Amount of variation or dispersion | 33.4544 |\n"
      ],
      "text/plain": [
       "<IPython.core.display.Markdown object>"
      ]
     },
     "execution_count": 343,
     "metadata": {},
     "output_type": "execute_result"
    }
   ],
   "source": [
    "md(f'''\n",
    "| Type | Description | Result |\n",
    "| --- | --- | --- |\n",
    "| Mean | Sum of values divided by number of values | {mean:.4f} |\n",
    "| Median | Middle value separating the greater and lesser halves | {medi:.4f} |\n",
    "| Mode | The most frequent observation | {mde} |\n",
    "| Variance | How far the values are from the mean | {s:.0f} |\n",
    "| SDeviation | Amount of variation or dispersion | {sigma:.4f} |\n",
    "''')"
   ]
  },
  {
   "cell_type": "markdown",
   "id": "e8aa0ed2-d642-4e16-94f6-e8d535230800",
   "metadata": {},
   "source": [
    "### Distribution plot\n",
    "\n",
    "Geometric visualization of the mode, median and mean of an arbitrary density function"
   ]
  },
  {
   "cell_type": "code",
   "execution_count": 338,
   "id": "ea71c8a4-3e05-46e2-a44c-3aba21c28511",
   "metadata": {},
   "outputs": [
    {
     "data": {
      "image/png": "[encoded data removed]",
      "text/plain": [
       "<Figure size 640x480 with 1 Axes>"
      ]
     },
     "metadata": {},
     "output_type": "display_data"
    }
   ],
   "source": [
    "plt.plot(x, y)\n",
    "plt.axvline(mean, c='r', label='mean')\n",
    "plt.axvline(medi, c='g', label='median')\n",
    "plt.axvline(mde, c='b', label='mode')\n",
    "plt.axvline(sigma, c='m', label='deviation')\n",
    "plt.legend(loc='best')\n",
    "plt.show()"
   ]
  },
  {
   "cell_type": "markdown",
   "id": "2554efe3-56a1-4c8f-928c-8e47f9bbe6b6",
   "metadata": {},
   "source": [
    "### Some properties\n",
    "\n",
    "- Except for extremely small samples, the mode is insensitive to \"outliers\".\n",
    "    - The median is also very robust in the presence of outliers.\n",
    "    - The mean is rather sensitive.\n",
    "- In continuous unimodal distributions the median often lies between the mean and the mode.\n",
    "- For unimodal distributions\n",
    "    - The mode is within √3 standard deviations of the mean\n",
    "    - The root mean square deviation about the mode is between the standard deviation and twice the standard deviation"
   ]
  },
  {
   "attachments": {
    "a60ae922-7c14-44ae-892b-23bda07e9bf2.png": {
     "image/png": "[encoded data removed]"
    }
   },
   "cell_type": "markdown",
   "id": "db15cd58-e959-4b87-adf0-930edfe49482",
   "metadata": {},
   "source": [
    "![image.png](attachment:a60ae922-7c14-44ae-892b-23bda07e9bf2.png)\n",
    "\n",
    "positively skewed, normal distribuition, negatiely skewed"
   ]
  },
  {
   "cell_type": "markdown",
   "id": "cc484810-a480-45b0-83ef-585343d24985",
   "metadata": {},
   "source": [
    "| Comparison | Mean | Median |\n",
    "| --- | --- | --- |\n",
    "| Definition | Average value of a data set | Central numeric value of data set |\n",
    "| Values | Takes ino account every value in the data set | Does not take every value into account |\n",
    "| What is | It is an arithmetic average | It is a positional average |\n",
    "| Represents | Center of gravity of data set | Center of gravity, and mid-point of data set |\n",
    "| Applicability | Normal distribution | Skewed distribution |\n",
    "| Outliers | Is sensitive | Not sensitive |"
   ]
  },
  {
   "cell_type": "markdown",
   "id": "94ec7016-d6db-4221-95ed-f9d87766115e",
   "metadata": {},
   "source": [
    "When to use:\n",
    "\n",
    "| Where | Mean | Median | Mode |\n",
    "| --- | --- | --- | --- |\n",
    "| Categorical data | | | x |\n",
    "| Has outliers | | x | x |\n",
    "| Symmetrical | x | x | x |\n",
    "| Skewed | | x | |"
   ]
  },
  {
   "cell_type": "markdown",
   "id": "e8b33eba-64ae-498c-9a2e-af5ef8e9dc3f",
   "metadata": {},
   "source": [
    "## References\n",
    "\n",
    "- <https://en.wikipedia.org/wiki/Mode_(statistics)>\n",
    "- <https://keydifferences.com/difference-between-mean-and-median.html>\n",
    "- <https://www.differencebetween.com/difference-between-mean-and-median/>\n",
    "- <https://www.onlinemathlearning.com/central-tendency-variance-6sp3.html>"
   ]
  },
  {
   "cell_type": "code",
   "execution_count": null,
   "id": "ebfd79c8-1d19-4dfa-8d06-3e4aa1be1dfd",
   "metadata": {},
   "outputs": [],
   "source": []
  }
 ],
 "metadata": {
  "kernelspec": {
   "display_name": "py311",
   "language": "python",
   "name": "py311"
  },
  "language_info": {
   "codemirror_mode": {
    "name": "ipython",
    "version": 3
   },
   "file_extension": ".py",
   "mimetype": "text/x-python",
   "name": "python",
   "nbconvert_exporter": "python",
   "pygments_lexer": "ipython3",
   "version": "3.11.3"
  }
 },
 "nbformat": 4,
 "nbformat_minor": 5
}
